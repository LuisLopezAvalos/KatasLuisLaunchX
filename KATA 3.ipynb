{
 "cells": [
  {
   "cell_type": "markdown",
   "metadata": {},
   "source": [
    "# KATA 3\n",
    "Github: LuisLopezAvalos\n",
    "\n",
    "Ejercicio 1: Para este ejercicio, escribirás una lógica condicional que imprima una advertencia si un asteroide se acerca a la Tierra demasiado rápido. La velocidad del asteroide varía dependiendo de lo cerca que esté del sol, y cualquier velocidad superior a 25 kilómetros por segundo (km/s) merece una advertencia.\n",
    "\n",
    "Un asteroide se acerca, y viaja a una velocidad de 49 km/s."
   ]
  },
  {
   "cell_type": "code",
   "execution_count": 4,
   "metadata": {},
   "outputs": [
    {
     "name": "stdout",
     "output_type": "stream",
     "text": [
      "Advertencia!! , Peligro inminente! Asteroide\n"
     ]
    }
   ],
   "source": [
    "Vasteroide=45 ## m/s\n",
    "if Vasteroide >= 25:\n",
    "    print(\"Advertencia!! , Peligro inminente! Asteroide!\")\n",
    "else:\n",
    "    print(\"Falsa alarma\") "
   ]
  },
  {
   "cell_type": "markdown",
   "metadata": {},
   "source": [
    "Ejercicio 2: Si un asteroide entra en la atmósfera de la Tierra a una velocidad mayor o igual a 20 km/s, a veces produce un rayo de luz que se puede ver desde la Tierra. Escribe la lógica condicional que usa declaraciones if, else, y elif para alertar a las personas de todo el mundo que deben buscar un asteroide en el cielo. ¡Hay uno que se dirige a la tierra ahora a una velocidad de 19 km/s!"
   ]
  },
  {
   "cell_type": "code",
   "execution_count": 17,
   "metadata": {},
   "outputs": [
    {
     "name": "stdout",
     "output_type": "stream",
     "text": [
      "Ningun peligro por el dia de hoy\n"
     ]
    }
   ],
   "source": [
    "Vasteroide = 19 ## KM/s\n",
    "if Vasteroide > 20:\n",
    "    print(\"Mira al cielo,todo un espectaculo\")\n",
    "elif Vasteroide == 20:\n",
    "    print(\"Mira al cielo,una luz del espacio\")\n",
    "else:\n",
    "    print(\"Ningun peligro por el dia de hoy\")\n"
   ]
  },
  {
   "cell_type": "markdown",
   "metadata": {},
   "source": [
    "Ejercicio 3: En este ejercicio, aprenderás información más matizada sobre cuándo los asteroides representan un peligro para la Tierra, y utilizarás esa información para mejorar nuestro sistema de advertencia. Aquí está la nueva información que necesitas saber:\n",
    "\n",
    "*Los asteroides de menos de 25 metros en su dimensión más grande probablemente se quemarán a medida que entren en la atmósfera de la Tierra.\n",
    "\n",
    "Si una pieza de un asteroide que es más grande que 25 metros pero más pequeña que 1000 metros golpeara la Tierra, causaría mucho daño.\n",
    "También discutimos en el ejercicio anterior que:\n",
    "\n",
    "La velocidad del asteroide varía en función de lo cerca que esté del sol, y cualquier velocidad superior a 25 kilómetros por segundo (km/s) merece una advertencia.\n",
    "Si un asteroide entra en la atmósfera de la Tierra a una velocidad mayor o igual a 20 km/s, a veces produce un rayo de luz que se puede ver desde la Tierra.\n",
    "Usando toda esta información, escribe un programa que emita la advertencia o información correcta a la gente de la Tierra, según la velocidad y el tamaño de un asteroide. Utiliza instrucciones if, else, y elif, así como los operadores and y or.\n",
    "\n",
    "- Agrega el código para crear nuevas variables para la velocidad y el tamaño del asteroide\n",
    "- Para probar el código, prueba con varias velocidades y tamaños\n",
    "- Escribe varias expresiones de prueba o combinaciones de expresiones de prueba para determinar qué mensaje se debe enviar a Tierra.\n",
    "\n"
   ]
  },
  {
   "cell_type": "code",
   "execution_count": 35,
   "metadata": {},
   "outputs": [
    {
     "name": "stdout",
     "output_type": "stream",
     "text": [
      "No existe peligro\n"
     ]
    }
   ],
   "source": [
    "Vasteroide=19 # VELOCIDAD Km/s\n",
    "tamaño=25 # TAMAÑO DEL ASTEROIDE m\n",
    "if tamaño>25 and Vasteroide>25:\n",
    "    print(\"impacto inminente,el meteorito casuara daños graves\")\n",
    "elif Vasteroide >= 20:\n",
    "    print(\"Mira al cielo,todo un espectaculo\")\n",
    "elif tamaño < 25:\n",
    "    print(\"No existe peligro\")\n",
    "else:\n",
    "    print(\"No existe peligro\")"
   ]
  }
 ],
 "metadata": {
  "interpreter": {
   "hash": "1fffe6dfd73023db343e7e18005beb3c51991515aea02f657cd69a959967ab82"
  },
  "kernelspec": {
   "display_name": "Python 3.9.10 64-bit (windows store)",
   "language": "python",
   "name": "python3"
  },
  "language_info": {
   "codemirror_mode": {
    "name": "ipython",
    "version": 3
   },
   "file_extension": ".py",
   "mimetype": "text/x-python",
   "name": "python",
   "nbconvert_exporter": "python",
   "pygments_lexer": "ipython3",
   "version": "3.9.10"
  },
  "orig_nbformat": 4
 },
 "nbformat": 4,
 "nbformat_minor": 2
}
