{
 "cells": [
  {
   "cell_type": "markdown",
   "metadata": {},
   "source": [
    "# KATA 9\n",
    "\n",
    "Github: LuisLopezAvalos\n",
    "\n",
    "Los argumentos requeridos en las funciones se utilizan cuando las funciones necesitan que esos argumentos funcionen correctamente. En este ejercicio, construirás un informe de combustible que requiere información de varias ubicaciones de combustible en todo el cohete.\n",
    "\n",
    "Comienza por crear una función que necesite tres lecturas de combustible y devuelva un informe:"
   ]
  },
  {
   "cell_type": "code",
   "execution_count": 9,
   "metadata": {},
   "outputs": [],
   "source": [
    "# Función para leer 3 tanques de combustible y muestre el promedio\n",
    "def reporte_combustible(primer_ubicacion,segunda_ubicacion,tercera_ubicacion):\n",
    "    combustible_total= primer_ubicacion + segunda_ubicacion + tercera_ubicacion\n",
    "    combustible_promedio=combustible_total/3\n",
    "    return f\"\"\"\n",
    "    Combustible total: {combustible_total} litros\n",
    "    Combustible de la primera ubicacion: {primer_ubicacion} litros\n",
    "    Combustible de la segunda ubicacion: {segunda_ubicacion} litros\n",
    "    Combustible de la tercera ubicacion: {tercera_ubicacion} litros\n",
    "    Combustible promedio de la nave: {combustible_promedio} litros\n",
    "    \"\"\"\n"
   ]
  },
  {
   "cell_type": "markdown",
   "metadata": {},
   "source": [
    "Ahora que hemos definido la función de informes, vamos a comprobarlo. Para esta misión, los tanques no están llenos:"
   ]
  },
  {
   "cell_type": "code",
   "execution_count": 12,
   "metadata": {},
   "outputs": [
    {
     "name": "stdout",
     "output_type": "stream",
     "text": [
      "\n",
      "    Combustible total: 160 litros\n",
      "    Combustible de la primera ubicacion: 23 litros\n",
      "    Combustible de la segunda ubicacion: 58 litros\n",
      "    Combustible de la tercera ubicacion: 79 litros\n",
      "    Combustible promedio de la nave: 53.333333333333336 litros\n",
      "    \n"
     ]
    }
   ],
   "source": [
    "# Llamamos a la función que genera el reporte print(funcion(tanque1, tanque2, tanque3))\n",
    "print(reporte_combustible(23,58,79))"
   ]
  },
  {
   "cell_type": "markdown",
   "metadata": {},
   "source": [
    "En lugar de simplemente crear el informe, la función también está calculando el promedio. Mejora la legibilidad extrayendo el cálculo promedio de la función en una nueva función para que el promedio se pueda hacer de forma independiente:"
   ]
  },
  {
   "cell_type": "code",
   "execution_count": 1,
   "metadata": {},
   "outputs": [
    {
     "data": {
      "text/plain": [
       "20.0"
      ]
     },
     "execution_count": 1,
     "metadata": {},
     "output_type": "execute_result"
    }
   ],
   "source": [
    "# Función promedio \n",
    "def promedio(values):\n",
    "    total=sum(values)\n",
    "    ndatos=len(values)\n",
    "    return total/ndatos\n",
    "\n",
    "        \n",
    "promedio([5,7,9,15,25,30,49])    "
   ]
  },
  {
   "cell_type": "markdown",
   "metadata": {},
   "source": [
    "Ahora actualiza la función de informes para llamando a la nueva función del promedio:"
   ]
  },
  {
   "cell_type": "code",
   "execution_count": 3,
   "metadata": {},
   "outputs": [
    {
     "name": "stdout",
     "output_type": "stream",
     "text": [
      "39.0\n"
     ]
    }
   ],
   "source": [
    "# Actualiza la función\n",
    "def reporte_combustible(primer_ubicacion,segunda_ubicacion,tercera_ubicacion):\n",
    "    combustible_total= primer_ubicacion + segunda_ubicacion + tercera_ubicacion\n",
    "    return f\"\"\"\n",
    "    Combustible total: {combustible_total} litros\n",
    "    Combustible de la primera ubicacion: {primer_ubicacion} litros\n",
    "    Combustible de la segunda ubicacion: {segunda_ubicacion} litros\n",
    "    Combustible de la tercera ubicacion: {tercera_ubicacion} litros\n",
    "    \"\"\"\n",
    "print(promedio([7,45,65]))"
   ]
  },
  {
   "cell_type": "markdown",
   "metadata": {},
   "source": [
    "Ejercicio 2: Trabajar con argumentos de palabras clave en funciones\n",
    "\n",
    "En este ejercicio, construirás un informe de cohete que requiere varias piezas de información, como el tiempo hasta el destino, el combustible a la izquierda y el nombre del destino. Comienza por crear una función que creará un informe preciso de la misión:"
   ]
  },
  {
   "cell_type": "code",
   "execution_count": 5,
   "metadata": {},
   "outputs": [
    {
     "name": "stdout",
     "output_type": "stream",
     "text": [
      "\n",
      "    Destino de la mision: luna\n",
      "    Tiempo de viaje: 113 minutes\n",
      "    Combustible total: 320000 litros\n",
      "    \n"
     ]
    }
   ],
   "source": [
    "# Función con un informe preciso de la misión. Considera hora de prelanzamiento, tiempo de vuelo, destino, tanque externo y tanque interno\n",
    "def reporte_viaje(hora_de_prelanzamiento, tiempo_vuelo, destino, tanque_externo, tanque_interno):\n",
    "    return f\"\"\"\n",
    "    Destino de la mision: {destino}\n",
    "    Tiempo de viaje: {hora_de_prelanzamiento + tiempo_vuelo} minutes\n",
    "    Combustible total: {tanque_externo + tanque_interno} litros\n",
    "    \"\"\"\n",
    "\n",
    "print(reporte_viaje(23, 90, \"luna\", 45000, 275000))"
   ]
  },
  {
   "cell_type": "markdown",
   "metadata": {},
   "source": [
    "La función es problemática porque no se puede adaptar para minutos adicionales o tanques adicionales de combustible. Hazlo más flexible permitiendo cualquier número de pasos basados en el tiempo y cualquier número de tanques. En lugar de usar *args y **kwargs, aprovecha el hecho de que puedes usar cualquier nombre que desees. Asegurate que la función sea más legible mediante el uso de nombres de variables que están asociados con las entradas, como *minutes y **fuel_reservoirs:"
   ]
  },
  {
   "cell_type": "code",
   "execution_count": 8,
   "metadata": {},
   "outputs": [
    {
     "name": "stdout",
     "output_type": "stream",
     "text": [
      "\n",
      "    Destino de la mision: luna\n",
      "    Tiempo de viaje: 89 minutos\n",
      "    Combustible total: 381000 litros\n",
      "    \n"
     ]
    }
   ],
   "source": [
    "# Escribe tu nueva función de reporte considerando lo anterior\n",
    "def reporte_viaje(destino, *minutos, **depositos_de_combustible):\n",
    "    return f\"\"\"\n",
    "    Destino de la mision: {destino}\n",
    "    Tiempo de viaje: {sum(minutos)} minutos\n",
    "    Combustible total: {sum(depositos_de_combustible.values())} litros\n",
    "    \"\"\"\n",
    "\n",
    "print(reporte_viaje(\"luna\", 24, 5, 60, tanque_externo=225000, tanque_interno=156000))"
   ]
  }
 ],
 "metadata": {
  "interpreter": {
   "hash": "1fffe6dfd73023db343e7e18005beb3c51991515aea02f657cd69a959967ab82"
  },
  "kernelspec": {
   "display_name": "Python 3.9.10 64-bit (windows store)",
   "language": "python",
   "name": "python3"
  },
  "language_info": {
   "codemirror_mode": {
    "name": "ipython",
    "version": 3
   },
   "file_extension": ".py",
   "mimetype": "text/x-python",
   "name": "python",
   "nbconvert_exporter": "python",
   "pygments_lexer": "ipython3",
   "version": "3.9.10"
  },
  "orig_nbformat": 4
 },
 "nbformat": 4,
 "nbformat_minor": 2
}
